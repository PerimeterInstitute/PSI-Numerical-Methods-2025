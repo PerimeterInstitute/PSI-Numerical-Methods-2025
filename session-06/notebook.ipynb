{
 "cells": [
  {
   "cell_type": "code",
   "execution_count": null,
   "id": "dcd58998-e150-4fea-9b84-4bdb1a371a8f",
   "metadata": {
    "tags": []
   },
   "outputs": [],
   "source": [
    "using Pkg"
   ]
  },
  {
   "cell_type": "code",
   "execution_count": null,
   "id": "eaf21655-82c0-43df-86a0-bc47a37e1cc2",
   "metadata": {},
   "outputs": [],
   "source": [
    "Pkg.add(\"WGLMakie\")\n",
    "Pkg.add(\"CSV\")\n",
    "Pkg.add(\"DataFrames\")\n",
    "Pkg.add(\"Optim\")"
   ]
  },
  {
   "cell_type": "code",
   "execution_count": null,
   "id": "00c254c0-699b-4507-ab6f-6ea8220b7b20",
   "metadata": {},
   "outputs": [],
   "source": [
    "using WGLMakie\n",
    "using CSV\n",
    "using DataFrames\n",
    "using Optim"
   ]
  },
  {
   "cell_type": "code",
   "execution_count": null,
   "id": "ac49b96a-4e97-4e50-b980-f9a3193e0926",
   "metadata": {},
   "outputs": [],
   "source": [
    "data = CSV.read(\"data.csv\", DataFrame);"
   ]
  },
  {
   "cell_type": "code",
   "execution_count": null,
   "id": "302c9a52-0777-4d94-adfd-a8abf6178f35",
   "metadata": {},
   "outputs": [],
   "source": [
    "f = Figure()\n",
    "Axis(f[1,1], title=\"Data\", xlabel=\"X\", ylabel=\"Y\")\n",
    "scatter!(data.x, data.y)\n",
    "f"
   ]
  }
 ],
 "metadata": {
  "kernelspec": {
   "display_name": "Julia 1.11.2",
   "language": "julia",
   "name": "julia-1.11"
  },
  "language_info": {
   "file_extension": ".jl",
   "mimetype": "application/julia",
   "name": "julia",
   "version": "1.11.2"
  }
 },
 "nbformat": 4,
 "nbformat_minor": 5
}
